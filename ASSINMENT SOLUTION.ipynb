{
 "cells": [
  {
   "cell_type": "markdown",
   "metadata": {
    "id": "70pYkR9LiOV0"
   },
   "source": [
    "# Greetings Candidate\n",
    "<picture>\n",
    " <source media=\"(prefers-color-scheme: dark)\" srcset=\"YOUR-DARKMODE-IMAGE\">\n",
    " <source media=\"(prefers-color-scheme: light)\" srcset=\"YOUR-LIGHTMODE-IMAGE\">\n",
    " <img alt=\"Nao-Medical\" src=\"https://websitestaginbucket.storage.googleapis.com/wp-content/uploads/2024/03/27201754/img_4_272_e659aa.png\">\n",
    "</picture>\n",
    "\n",
    "\n",
    "### Assessment For Junior Data Analyst ( Analyst - Intern )\n",
    "\n",
    "### This assessment is to measure your problem solving ability in python and SQL\n"
   ]
  },
  {
   "cell_type": "markdown",
   "metadata": {
    "id": "LRwxlNbAlYof"
   },
   "source": [
    "# PART 1 - Programming with Python"
   ]
  },
  {
   "cell_type": "markdown",
   "metadata": {
    "id": "uR_th1Dke6vv"
   },
   "source": [
    "# Q1 Demonstrate a simple use of date time object - write a simple function get_timestamps() which returns a json like response with string formatted time example :\n",
    "```json\n",
    "{\n",
    "  'timestamp_system' : 'datetime.now()' ,\n",
    "  'timestamp_utc' : '-- current time in UTC timezone --',\n",
    "  'timestamp_est' : '-- current time in EST timezone --',\n",
    "  'timestamp-epoch' : 'string-casted-timestamp-epoch-integer'\n",
    "}\n",
    "```"
   ]
  },
  {
   "cell_type": "code",
   "execution_count": 2,
   "metadata": {
    "id": "nGdULHn3eIrA"
   },
   "outputs": [
    {
     "ename": "IndentationError",
     "evalue": "unindent does not match any outer indentation level (<tokenize>, line 17)",
     "output_type": "error",
     "traceback": [
      "\u001b[1;36m  File \u001b[1;32m<tokenize>:17\u001b[1;36m\u001b[0m\n\u001b[1;33m    pass\u001b[0m\n\u001b[1;37m    ^\u001b[0m\n\u001b[1;31mIndentationError\u001b[0m\u001b[1;31m:\u001b[0m unindent does not match any outer indentation level\n"
     ]
    }
   ],
   "source": [
    "def get_timestamps():\n",
    "timestamp_system = datetime.now().strftime('%Y-%m-%d %H:%M:%S')\n",
    "    timestamp_utc = datetime.now(pytz.utc).strftime('%Y-%m-%d %H:%M:%S')\n",
    "    est_timezone = pytz.timezone('America/New_York')\n",
    "    timestamp_est = datetime.now(est_timezone).strftime('%Y-%m-%d %H:%M:%S')\n",
    "\n",
    "    timestamp_epoch = int(datetime.now().timestamp())\n",
    "\n",
    "    \n",
    "    response = {\n",
    "        'timestamp_system': timestamp_system,\n",
    "        'timestamp_utc': timestamp_utc,\n",
    "        'timestamp_est': timestamp_est,\n",
    "        'timestamp_epoch': str(timestamp_epoch)\n",
    "    }\n",
    "    return json.dumps(response)\n",
    "  pass"
   ]
  },
  {
   "cell_type": "markdown",
   "metadata": {
    "id": "L0VloT7Bgqom"
   },
   "source": [
    "## Q2 write a random password generator"
   ]
  },
  {
   "cell_type": "code",
   "execution_count": null,
   "metadata": {
    "id": "JwJcq2Q2eIpI"
   },
   "outputs": [],
   "source": [
    "def randomPasswordGenerator():\n",
    "  import random\n",
    "import string\n",
    "\n",
    "def generate_password(length=12):\n",
    "    chars = string.ascii_letters + string.digits + string.punctuation\n",
    "    password = ''.join(random.choice(chars) for i in range(length))\n",
    "    return password\n",
    "    print(generate_password(10))\n",
    "\n",
    "  pass"
   ]
  },
  {
   "cell_type": "markdown",
   "metadata": {
    "id": "Alx6jgV9hTIc"
   },
   "source": [
    "## Q3 Write a simple html table writer - given a very basic sales data you have to write a function which accepts a dictionary(json) input and returns a formatted html table data with the following conditions :\n",
    "- If the key name includes Price or Sales the value should be formatted with $ and upto 2 decimal places\n",
    "- If the key inlcudes a keyword Unit - the value should be formatted as a plain Integer (no decimal places)\n",
    "- And based on the ratio of Price to Sales ( TP  / TS ) add a new row as \"backgroundColor\"\n",
    "  - if TP/TS <= 0 then return \"RED\"\n",
    "  - if TP/TS is between 1 and 0 then \"YELLOW\"\n",
    "  - if TP/TS >=1 then return \"GREEN\"\n"
   ]
  },
  {
   "cell_type": "code",
   "execution_count": null,
   "metadata": {
    "id": "eNUo9PjdhS60"
   },
   "outputs": [],
   "source": [
    "def my_table_generator(jsonData):\n",
    "     \n",
    "    html = \"<table border='1' cellpadding='5' cellspacing='0'>\\n\"\n",
    "    html += \"<tr>\"\n",
    "    for key in jsonData.keys():\n",
    "        html += f\"<th>{key}</th>\"\n",
    "    html += \"</tr>\\n\"\n",
    "    \n",
    "\n",
    "    html += \"<tr>\"\n",
    "    for key, value in jsonData.items():\n",
    "        formatted_value = format_value(key, value)\n",
    "        html += f\"<td>{formatted_value}</td>\"\n",
    "    html += \"</tr>\\n\"\n",
    "    \n",
    "    total_price = jsonData.get(\"Total Price\", 0)\n",
    "    total_sales = jsonData.get(\"Total Sales\", 1)  \n",
    "    background_color = calculate_background_color(total_price, total_sales)\n",
    "\n",
    "    html += f\"<tr><td colspan='{len(jsonData)}' style='background-color:{background_color};'>Background Color: {background_color}</td></tr>\\n\"\n",
    "\n",
    "    html += \"</table>\"\n",
    "    \n",
    "    return html\n",
    "  \n",
    "\n",
    "  pass"
   ]
  },
  {
   "cell_type": "markdown",
   "metadata": {
    "id": "u4O_DVGhlc5J"
   },
   "source": [
    "# PART 2 - SQL\n",
    "\n"
   ]
  },
  {
   "cell_type": "markdown",
   "metadata": {
    "id": "B4pxzIk3lqM0"
   },
   "source": [
    " Q1 - You have a table in you database named as \"PatientVisits\" with following columns\n",
    "```csv\n",
    "date_of_visit ( type string format YYYY-MM-DD ),\n",
    "Appointment_Start_Time ( type string format HH:MM:SS ),\n",
    "visit_ID,\n",
    "Appointment_Created_By_User,\n",
    "VISIT_TYPE,\n",
    "VISIT_STATUS,\n",
    "Patient_DOB ( type string format YYYY-MM-DD ) ,\n",
    "Patient_Gender,\n",
    "Patient_Race,\n",
    "location,\n",
    "Appointment_Provider_Name,\n",
    "Primary_Insurance_Name,\n",
    "patient_id\n",
    "```\n",
    "\n",
    "- 1.1 Write a query to fetch all appointment records for last 7 days of visit dates and note that \"date_of_visit\" stores ISO format data in string format.\n",
    "\n",
    "\n",
    "- 1.2 Write a query to get staff member who creates the most number of appointments ( Appointment_Created_By_User )\n",
    "\n",
    "- 1.3 Write a query to count total daily visits by gender\n",
    "\n",
    "- 1.3 Write a query to count total daily visits by gender and the output format should be as below\n",
    "<!-- \n",
    "  csv\n",
    "  Visit_Date | Male | Female | Gender_Not_Mentioned | Total\n",
    "  Monday Sep 16, 2024 | 7 | 8 | 5 | 20\n",
    "  Tuesday Sep 17, 2024 | 17 | 18 | 35 | 70 -->\n",
    "  \n",
    " \n",
    "\n",
    "- 1.4 Write a query that summarizes the number of daily visits by location, displaying the location name and the count of visits\n",
    "\n",
    "\n",
    "- 1.5 Write a query to get all upcoming appointments ( visits ) for next 30 days\n",
    "\n",
    "\n",
    "- 1.6 Write a query to determine which location has the most visits scheduled for the next days.\n",
    "\n",
    "\n",
    "\n",
    "- 1.7 Write a query to determine busy hours by date of visit\n",
    "the output format should be as below\n",
    "  <br> hint : create a new column appointment_timestamp which is a combination of\n",
    "date_of_visit and Appointment_Start_Time -   here Visit date is formatted as human readable date and columns are hours of the appointment_timestamp and The hour's columns represent each hour from 0 to 23 (24-hour format).\n",
    "```csv\n",
    "Visit_Date | 8 | 9 | 10 | .......... | 17 Total\n",
    "Monday Sep 16, 2024 | 7 | 8 | 5 | ....... |  20\n",
    "Tuesday Sep 17, 2024 | 17 | 18 | 35 | ........ |  70\n",
    ".\n",
    "\n",
    "```\n",
    "<br>\n",
    "\n",
    "\n",
    "\n",
    "- 1.8 Write a query to fetch the patient with most visits _ TOP 100 Patient with most number of visits who had following visit status'CHK' , 'ER' , 'Vaccinated'\n",
    " \n",
    "\n",
    "- 1.9 Write a query to get average age of patient who have visited in last calendar month. Hint : <br>\n",
    "    - break down the requirement into sub tasks/queries\n",
    "    - remember to cast patient_dob and date_of_visit into date first then calculate age_on_visit\n",
    " \n",
    "\n",
    "- 1.10 Write a query to generate a report that shows how many visits each provider has based on the `VISIT_STATUS` ( Completed, No-Show, Canceled). The output should display the provider name along with each status count in separate columns. <br> note : here\n",
    "  - Completed includes both 'CHK' and 'ER'\n",
    "  - No-Show includes 'NoShow'\n",
    "  - Canceled includes 'PatientCanceled' and 'PracticeCanceled'\n",
    " \n",
    "\n",
    "\n",
    "- 1.11  Write a query to generate a report that displays the total number of visits for each provider by month.\n",
    "The output should include:\n",
    "  - Month (formatted as 'YYYY-MM')\n",
    "  - Provider Name\n",
    "  - Total Visits\n",
    " \n",
    "\n",
    "\n"
   ]
  },
  {
   "cell_type": "code",
   "execution_count": null,
   "metadata": {},
   "outputs": [],
   "source": [
    "## SOLUTIONS FOR SQL QUERIES ABOVE"
   ]
  },
  {
   "cell_type": "code",
   "execution_count": null,
   "metadata": {},
   "outputs": [],
   "source": [
    "1.1\n",
    "SELECT * \n",
    "FROM PatientVisits\n",
    "WHERE CAST(date_of_visit AS DATE) >= DATE_SUB(CURDATE(), INTERVAL 7 DAY);\n"
   ]
  },
  {
   "cell_type": "code",
   "execution_count": null,
   "metadata": {},
   "outputs": [],
   "source": [
    "1.2\n",
    "SELECT Appointment_Created_By_User, COUNT(*) AS total_appointments\n",
    "FROM PatientVisits\n",
    "GROUP BY Appointment_Created_By_User\n",
    "ORDER BY total_appointments DESC\n",
    "LIMIT 1;\n"
   ]
  },
  {
   "cell_type": "code",
   "execution_count": null,
   "metadata": {},
   "outputs": [],
   "source": [
    "1.3\n",
    "SELECT \n",
    "    DATE_FORMAT(CAST(date_of_visit AS DATE), '%W %b %d, %Y') AS Visit_Date,\n",
    "    SUM(CASE WHEN Patient_Gender = 'Male' THEN 1 ELSE 0 END) AS Male,\n",
    "    SUM(CASE WHEN Patient_Gender = 'Female' THEN 1 ELSE 0 END) AS Female,\n",
    "    SUM(CASE WHEN Patient_Gender NOT IN ('Male', 'Female') THEN 1 ELSE 0 END) AS Gender_Not_Mentioned,\n",
    "    COUNT(*) AS Total\n",
    "   FROM PatientVisits\n",
    "   GROUP BY Visit_Date\n",
    "   ORDER BY CAST(date_of_visit AS DATE) ASC;"
   ]
  },
  {
   "cell_type": "code",
   "execution_count": null,
   "metadata": {},
   "outputs": [],
   "source": [
    "1.4\n",
    "SELECT \n",
    "    CAST(date_of_visit AS DATE) AS Visit_Date,\n",
    "    location,\n",
    "    COUNT(*) AS total_visits\n",
    "   FROM PatientVisits\n",
    "   GROUP BY Visit_Date, location\n",
    "   ORDER BY Visit_Date ASC, location ASC;"
   ]
  },
  {
   "cell_type": "code",
   "execution_count": null,
   "metadata": {},
   "outputs": [],
   "source": [
    " 1.5\n",
    "    SELECT *\n",
    "        FROM appointments\n",
    "        WHERE visit_date >= CURRENT_DATE\n",
    "      AND visit_date < CURRENT_DATE + INTERVAL '30 days'\n",
    "       ORDER BY visit_date ASC;"
   ]
  },
  {
   "cell_type": "code",
   "execution_count": null,
   "metadata": {},
   "outputs": [],
   "source": [
    "1.6\n",
    "SELECT location_id, COUNT(*) AS visit_count\n",
    "        FROM appointments\n",
    "        WHERE visit_date >= CURRENT_DATE\n",
    "          AND visit_date < CURRENT_DATE + INTERVAL '30 days'\n",
    "        GROUP BY location_id\n",
    "        ORDER BY visit_count DESC\n",
    "        LIMIT 1;"
   ]
  },
  {
   "cell_type": "code",
   "execution_count": null,
   "metadata": {},
   "outputs": [],
   "source": [
    "1.7\n",
    "SELECT \n",
    "    TO_CHAR(date_of_visit, 'FMDay, FMMonth DD, YYYY') AS Visit_Date,\n",
    "    COUNT(CASE WHEN EXTRACT(HOUR FROM appointment_start_time) = 8 THEN 1 END) AS \"8\",\n",
    "    COUNT(CASE WHEN EXTRACT(HOUR FROM appointment_start_time) = 9 THEN 1 END) AS \"9\",\n",
    "    COUNT(CASE WHEN EXTRACT(HOUR FROM appointment_start_time) = 10 THEN 1 END) AS \"10\",\n",
    "    COUNT(CASE WHEN EXTRACT(HOUR FROM appointment_start_time) = 11 THEN 1 END) AS \"11\",\n",
    "    COUNT(CASE WHEN EXTRACT(HOUR FROM appointment_start_time) = 12 THEN 1 END) AS \"12\",\n",
    "    COUNT(CASE WHEN EXTRACT(HOUR FROM appointment_start_time) = 13 THEN 1 END) AS \"13\",\n",
    "    COUNT(CASE WHEN EXTRACT(HOUR FROM appointment_start_time) = 14 THEN 1 END) AS \"14\",\n",
    "    COUNT(CASE WHEN EXTRACT(HOUR FROM appointment_start_time) = 15 THEN 1 END) AS \"15\",\n",
    "    COUNT(CASE WHEN EXTRACT(HOUR FROM appointment_start_time) = 16 THEN 1 END) AS \"16\",\n",
    "    COUNT(CASE WHEN EXTRACT(HOUR FROM appointment_start_time) = 17 THEN 1 END) AS \"17\",\n",
    "        COUNT(*) AS \"Total\"\n",
    "    FROM \n",
    "        appointments\n",
    "    GROUP BY \n",
    "        date_of_visit\n",
    "    ORDER BY \n",
    "        date_of_visit;"
   ]
  },
  {
   "cell_type": "code",
   "execution_count": null,
   "metadata": {},
   "outputs": [],
   "source": [
    " 1.8\n",
    "    SELECT \n",
    "        patient_id, \n",
    "        COUNT(*) AS visit_count\n",
    "    FROM \n",
    "        appointments\n",
    "    WHERE \n",
    "        visit_status IN ('CHK', 'ER', 'Vaccinated')\n",
    "    GROUP BY \n",
    "        patient_id\n",
    "    ORDER BY \n",
    "        visit_count DESC\n",
    "    LIMIT 100;\n"
   ]
  },
  {
   "cell_type": "code",
   "execution_count": null,
   "metadata": {},
   "outputs": [],
   "source": [
    "1.9\n",
    "WITH visits_last_month AS (\n",
    "        SELECT \n",
    "            patient_dob, \n",
    "            CAST(date_of_visit AS DATE) AS visit_date\n",
    "        FROM \n",
    "            appointments\n",
    "        WHERE \n",
    "            date_of_visit >= DATE_TRUNC('month', CURRENT_DATE - INTERVAL '1 month')\n",
    "            AND date_of_visit < DATE_TRUNC('month', CURRENT_DATE)\n",
    "    ),\n",
    "    age_calculation AS (\n",
    "        SELECT \n",
    "            EXTRACT(YEAR FROM age(visit_date, CAST(patient_dob AS DATE))) AS age_on_visit\n",
    "        FROM \n",
    "            visits_last_month\n",
    "    )\n",
    "\n",
    "   SELECT \n",
    "        AVG(age_on_visit) AS average_age\n",
    "    FROM \n",
    "        age_calculation;\n"
   ]
  },
  {
   "cell_type": "code",
   "execution_count": null,
   "metadata": {},
   "outputs": [],
   "source": [
    " 1.10\n",
    "    SELECT \n",
    "        provider_name,\n",
    "        COUNT(CASE WHEN visit_status IN ('CHK', 'ER') THEN 1 END) AS Completed,\n",
    "        COUNT(CASE WHEN visit_status = 'NoShow' THEN 1 END) AS No_Show,\n",
    "        COUNT(CASE WHEN visit_status IN ('PatientCanceled', 'PracticeCanceled') THEN 1 END) AS Canceled\n",
    "    FROM \n",
    "        appointments\n",
    "    GROUP BY \n",
    "        provider_name\n",
    "    ORDER BY \n",
    "        provider_name;"
   ]
  },
  {
   "cell_type": "code",
   "execution_count": null,
   "metadata": {},
   "outputs": [],
   "source": [
    "1.11\n",
    "SELECT \n",
    "        TO_CHAR(date_of_visit, 'YYYY-MM') AS Month,\n",
    "        provider_name,\n",
    "        COUNT(*) AS Total_Visits\n",
    "    FROM \n",
    "        appointments\n",
    "    GROUP BY \n",
    "        TO_CHAR(date_of_visit, 'YYYY-MM'), \n",
    "        provider_name\n",
    "    ORDER BY \n",
    "        Month, \n",
    "        provider_name;\n"
   ]
  },
  {
   "cell_type": "code",
   "execution_count": null,
   "metadata": {},
   "outputs": [],
   "source": []
  },
  {
   "cell_type": "markdown",
   "metadata": {
    "id": "hCvDj5XntIAf"
   },
   "source": [
    "# Part 3 - Data Wrangling with Python"
   ]
  },
  {
   "cell_type": "markdown",
   "metadata": {
    "id": "6OmP5Vp4wGBy"
   },
   "source": [
    "## Q1 - Your first task is to get all data from this [link](https://gist.githubusercontent.com/dataAnalystNaoMedical/171e7434e87634cef0d66383eb0257cc/raw/af92209669914f5eaf290a227668dd464abdd447/song-json.json) and save it as a json locally"
   ]
  },
  {
   "cell_type": "code",
   "execution_count": null,
   "metadata": {
    "id": "uZsZBVoDhS4E"
   },
   "outputs": [],
   "source": [
    "import requests\n",
    "import json\n",
    "\n",
    "def get_data():\n",
    "      requests.exceptions.RequestException: If there's an error fetching the data.\n",
    "  \n",
    "\n",
    "  url = \"https://gist.githubusercontent.com/dataAnalystNaoMedical/171e7434e87634cef0d66383eb0257cc/raw/af92209669914f5eaf290a227668dd464abdd447/song-json.json\"\n",
    "\n",
    "  try:\n",
    "    response = requests.get(url)\n",
    "    response.raise_for_status()  \n",
    "    if response.headers['Content-Type'] != 'application/json':\n",
    "      raise ValueError(\"Expected content type: application/json\")\n",
    "\n",
    "\n",
    "    data = response.json()\n",
    "\n",
    "    with open(\"song-data.json\", \"w\") as outfile:\n",
    "      json.dump(data, outfile, indent=4)  \n",
    "\n",
    "    print(\"Data successfully retrieved and saved as song-data.json\")\n",
    "\n",
    "  except requests.exceptions.RequestException as e:\n",
    "    print(f\"Error fetching data: {e}\")\n",
    "\n",
    "if __name__ == \"__main__\":\n",
    "  get_data()"
   ]
  },
  {
   "cell_type": "markdown",
   "metadata": {
    "id": "XcLK8wejwjY8"
   },
   "source": [
    "## Q2 - Read the saved json as a dataframe and cast ChartDate into a proper datetime type / or a relative type"
   ]
  },
  {
   "cell_type": "code",
   "execution_count": null,
   "metadata": {
    "id": "jw5e0CzueIk2"
   },
   "outputs": [],
   "source": [
    "import pandas as pd\n",
    "\n",
    "def read_format_dataframe():\n",
    "\n",
    "  try:\n",
    "\n",
    "    df = pd.read_json(\"song-data.json\")\n",
    "\n",
    "    \n",
    "    df['ChartDate'] = pd.to_datetime(df['ChartDate'])\n",
    "\n",
    "    return df\n",
    "\n",
    "  except FileNotFoundError:\n",
    "    print(\"Error: JSON file not found.\")\n",
    "\n",
    "  except ValueError as e:\n",
    "    print(f\"Error converting ChartDate: {e}\")\n"
   ]
  },
  {
   "cell_type": "markdown",
   "metadata": {
    "id": "stm7kGWZxtPz"
   },
   "source": [
    "## Q3 - Based on the data prepare following metrics :\n",
    "\n",
    "1. **Total Songs Count**:\n",
    "   - **Question**: Write a query to calculate the total number of songs in the dataset.\n",
    " ANSWER -total_songs = df.shape[0]\n",
    "          print(\"Total Songs Count:\", total_songs)\n",
    "2. **Song Count by Month ( YYYY-MM )**:\n",
    "   - **Question**: Write a query to calculate the total number of songs released each month of the year. Present the results in a descending order based on the number of songs.\n",
    " ANSWER -df['Month'] = df['ChartDate'].dt.strftime('%Y-%m')\n",
    "        song_count_by_month = df.groupby('Month').size().sort_values(ascending=False)\n",
    "        print(\"Song Count by Month:\\n\", song_count_by_month)\n",
    "\n",
    "3. **Song Count by Week**:\n",
    "   - **Question**: Write a query to calculate the total number of songs released each week. Present the results in a descending order based on the number of songs.\n",
    " ANSWER - df['Week'] = df['ChartDate'].dt.strftime('%Y-%W')\n",
    "        song_count_by_week = df.groupby('Week').size().sort_values(ascending=False)\n",
    "        print(\"Song Count by Week:\\n\", song_count_by_week)\n",
    "\n",
    "4. **Top n Artists by Number of Songs**:\n",
    "   - **Question**: Identify the top 5 artists with the most number of songs in the dataset. Provide the artist names and their song counts.\n",
    "ANSWER - top_artists = df.groupby('ArtistName').size().sort_values(ascending=False).head(5)\n",
    "          print(\"Top 5 Artists by Number of Songs:\\n\", top_artists)\n",
    "\n",
    "\n",
    "5. **Most Popular Songs**:\n",
    "   - **Question**: Write a query to find the position of the most popular songs in the dataset. (Assuming a lower position number indicates higher popularity.)\n",
    "ANSWER - most_popular_song = df.sort_values('Position').iloc[0]\n",
    "        print(\"Most Popular Song:\\n\", most_popular_song)\n",
    "  \n",
    "6. **Count of Unique Artists**:\n",
    "   - **Question**: Write a query to find out how many unique artists are present in the dataset.\n",
    "ANSWER - unique_artists = df['ArtistName'].nunique()\n",
    "          print(\"Count of Unique Artists:\", unique_artists)\n",
    "\n",
    "7. **Songs by a Specific Artist**:\n",
    "   - **Question**: Write a query to count how many songs are by a specific artist (e.g., \"R KELLY\").\n",
    "ANSWER - artist_name = \"R KELLY\"\n",
    "    songs_by_artist = df[df['ArtistName'] == artist_name].shape[0]\n",
    "    print(f\"Songs by {artist_name}:\", songs_by_artist)\n"
   ]
  },
  {
   "cell_type": "markdown",
   "metadata": {
    "id": "TKjv0_nNFBkl"
   },
   "source": [
    "Q4 - Download csv data from this [link](https://catalog.data.gov/dataset/alzheimers-disease-and-healthy-aging-data)\n",
    "\n",
    "And prepare following metrics :\n",
    "\n",
    "Sure! Here are Python data analysis questions that revolve around the dataset you've described, encouraging the use of Pandas for filtering, grouping, pivoting, and other basic data manipulation tasks:\n",
    "\n",
    "### Basic Python Data Analysis Questions\n",
    "\n",
    "1. **Loading the Data**:\n",
    "   - **Question**: Write a Python code snippet to load the dataset into a Pandas DataFrame from a CSV file named `health_data.csv`. Display the first five rows of the DataFrame.\n",
    "ANSWER - import requests\n",
    "\n",
    " url = \"https://catalog.data.gov/dataset/alzheimers-disease-and-healthy-aging-data/download/alzheimers_disease_&_healthy_aging_data.csv\"\n",
    "\n",
    "try:\n",
    "  response = requests.get(url, stream=True)\n",
    "  response.raise_for_status()\n",
    "\n",
    "  with open(\"health_data.csv\", \"wb\") as f:\n",
    "    for chunk in response.iter_content(1024):\n",
    "      f.write(chunk)\n",
    "\n",
    "  print(\"Data downloaded successfully!\")\n",
    "except requests.exceptions.RequestException as e:\n",
    "  print(f\"Error downloading data: {e}\")\n",
    "  \n",
    "\n",
    "2. **Filtering Data**:\n",
    "   - **Question**: Write a query to filter the DataFrame to only include records related to older adults (65 years or older) in the state of Maryland. Display the resulting DataFrame.\n",
    "  ANSWER - import pandas as pd\n",
    "df = pd.read_csv(\"health_data.csv\")\n",
    "print(df.head())\n",
    "\n",
    "3. **Calculating Summary Statistics**:\n",
    "   - **Question**: What is the average percentage of tooth retention reported by older adults in Maryland? Write a code snippet to calculate and display this average.\n",
    " ANSWER -\n",
    "filtered_df = df[(df['Age'] >= 65) & (df['State'] == 'Maryland')]\n",
    "print(filtered_df)\n",
    "\n",
    "\n",
    "\n",
    "4. **Grouping Data**:\n",
    "   - **Question**: Write a query to group the data by `Age Groups` (which column refers to this ?? ) and calculate the mean percentage of tooth retention for each group. Display the results.\n",
    "ANSWER - average_retention = df[df['Age'] >= 65]['Data_Value'].mean()\n",
    "print(\"Average tooth retention for older adults in Maryland:\", average_retention)\n",
    "\n",
    "5. **Pivot Table**:\n",
    "   - **Question**: Create a pivot table that shows the average `Data_Value` (percentage of tooth retention) for each race/ethnicity category and class (overall health). Display the pivot table.\n",
    "ANSWER - # Assuming the column for age groups is named 'Age_Group'\n",
    "grouped_df = df.groupby('Age_Group')['Data_Value'].mean()\n",
    "print(\"Mean tooth retention by age groups:\\n\", grouped_df)\n",
    "\n",
    "\n",
    "\n",
    "6. **Sorting Data**:\n",
    "   - **Question**: Sort the DataFrame based on the `Data_Value` in descending order. Display the top 10 records after sorting.\n",
    "ANSWER - pivot_table = df.pivot_table(index='Race/Ethnicity', columns='Class', values='Data_Value', aggfunc='mean')\n",
    "print(\"Average tooth retention by race/ethnicity and class:\\n\", pivot_table)\n",
    "\n",
    "\n",
    "7. **Count Unique Values**:\n",
    "   - **Question**: Write a code snippet to count the number of unique locations in the dataset. What does this tell you about the dataset?\n",
    "ANSWER -\n",
    "\n",
    "\n",
    "8. **Identifying Missing Values**:\n",
    "   - **Question**: Check and report the number of missing values in the `Data_Value` column.\n",
    "ANSWER -  import pandas as pd\n",
    "        missing_values_count = df['Data_Value'].isnull().sum()\n",
    "        print(\"Number of missing values in Data_Value:\", missing_values_count)\n",
    "\n",
    "\n",
    "9. **Filtering for Specific Conditions**:\n",
    "   - **Question**: Filter the DataFrame to show only entries where the `Data_Value` is greater than 70%. Print the filtered DataFrame.\n",
    " ANSWER -filtered_df = df[df['Data_Value'] > 70]\n",
    "print(filtered_df)\n",
    "\n",
    "10. **Visualizing Data**:\n",
    "    - **Question**: Write code to create a bar chart displaying the average percentage of tooth retention by race/ethnicity. Use Matplotlib or Seaborn for visualization.\n",
    "  ANSWER - import matplotlib.pyplot as plt\n",
    "                average_by_stratification = df.groupby('Stratification2')['Data_Value'].mean()\n",
    "                plt.figure(figsize=(10, 6))\n",
    "                plt.bar(average_by_stratification.index, average_by_stratification.values)\n",
    "                plt.xlabel('Stratification2')\n",
    "                plt.ylabel('Average Data Value')\n",
    "                plt.title('Average Data Value by Stratification2')\n",
    "                plt.xticks(rotation=45)\n",
    "                plt.show()\n",
    "\n",
    "    ```python\n",
    "    ## calculate average by Stratification2 and use plotly for bar chart\n",
    "    ```\n",
    "10. **Visualizing Data**:\n",
    "    - **Question**: Write code to create a pie chart to visualze distribution of topic counts of the dataset\n",
    " ANSWER - import matplotlib.pyplot as plt\n",
    "                topic_counts = df['Topic'].value_counts()\n",
    "\n",
    "   plt.figure(figsize=(8, 8))\n",
    "       plt.pie(topic_counts, labels=topic_counts.index, autopct='%1.1f%%', startangle=140)\n",
    "            plt.title('Distribution of Topic Counts')\n",
    "                plt.show()\n",
    "\n",
    "    ```python\n",
    "    ## calculate count by topic and use plotly for bar chart\n",
    "    ```\n",
    "\n",
    "12. **Visualize a trend line**\n",
    "  - **Question** : Write pandas code to see yearly trend of question mentions - count of records for values mentioned in 'YearStart' <br> ### use plotly ###\n",
    "  ANSWER - import plotly.express as px\n",
    "\n",
    "df['YearStart'] = df['YearStart'].astype(int)  # Convert to integer if necessary\n",
    "\n",
    "fig = px.line(df, x='YearStart', y='Question Mentions', title='Yearly Trend of Question Mentions')\n",
    "fig.show()\n",
    "\n",
    "\n",
    "These questions aim to test various fundamental skills in data manipulation and analysis using Pandas, catering to introductory-level data analysis tasks. Adjust the complexity as needed based on your students' experience levels!"
   ]
  },
  {
   "cell_type": "code",
   "execution_count": null,
   "metadata": {
    "id": "XEfFMT5neIiu"
   },
   "outputs": [],
   "source": [
    "## https://catalog.data.gov/dataset/alzheimers-disease-and-healthy-aging-data\n"
   ]
  },
  {
   "cell_type": "markdown",
   "metadata": {
    "id": "1BkcqhwwHTY7"
   },
   "source": [
    "## Q5 -  Write a codebase python snippet which connects to a sql database ( cloud or locall - any ) - and query some data into a dataframe\n",
    " - A simple function usage to extract some data\n",
    " - And a simple function usage to insert some data"
   ]
  },
  {
   "cell_type": "code",
   "execution_count": null,
   "metadata": {
    "id": "sZlmYAo5HfAr"
   },
   "outputs": [],
   "source": [
    "import pandas as pd\n",
    "import sqlalchemy\n",
    "\n",
    "def connect_to_database(db_url):\n",
    "\n",
    "  Args:\n",
    "      db_url (str): The URL of the SQL database.\n",
    "\n",
    "  Returns:\n",
    "      sqlalchemy.engine.Engine: The database engine object.\n",
    "\n",
    "\n",
    "  engine = sqlalchemy.create_engine(db_url)\n",
    "  return engine\n",
    "\n",
    "def extract_data(engine, query):\n",
    "\n",
    "\n",
    "  Args:\n",
    "      engine (sqlalchemy.engine.Engine): The database engine object.\n",
    "      query (str): The SQL query to execute.\n",
    "\n",
    "  Returns:\n",
    "      pandas.DataFrame: The extracted data as a DataFrame.\n",
    "\n",
    "\n",
    "  df = pd.read_sql_query(query, engine)\n",
    "  return df\n",
    "\n",
    "def insert_data(engine, df, table_name):\n",
    "\n",
    "\n",
    "  Args:\n",
    "      engine (sqlalchemy.engine.Engine): The database engine object.\n",
    "      df (pandas.DataFrame): The DataFrame containing the data to insert.\n",
    "      table_name (str): The name of the table to insert the data into.\n",
    "  \n",
    "\n",
    "  df.to_sql(table_name, engine, if_exists='replace', index=False)\n",
    "\n",
    "db_url = 'sqlite:///my_database.db'  \n",
    "\n",
    "engine = connect_to_database(db_url)\n",
    "\n",
    "\n",
    "query = \"SELECT * FROM my_table\"\n",
    "df = extract_data(engine, query)\n",
    "\n",
    "data = {'column1': [1, 2, 3], 'column2': ['a', 'b', 'c']}\n",
    "insert_df = pd.DataFrame(data)\n",
    "insert_data(engine, insert_df, 'my_table')"
   ]
  }
 ],
 "metadata": {
  "colab": {
   "provenance": [],
   "toc_visible": true
  },
  "kernelspec": {
   "display_name": "Python 3 (ipykernel)",
   "language": "python",
   "name": "python3"
  },
  "language_info": {
   "codemirror_mode": {
    "name": "ipython",
    "version": 3
   },
   "file_extension": ".py",
   "mimetype": "text/x-python",
   "name": "python",
   "nbconvert_exporter": "python",
   "pygments_lexer": "ipython3",
   "version": "3.9.12"
  }
 },
 "nbformat": 4,
 "nbformat_minor": 4
}
